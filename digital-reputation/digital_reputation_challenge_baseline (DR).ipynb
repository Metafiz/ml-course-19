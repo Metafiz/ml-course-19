{
 "cells": [
  {
   "cell_type": "code",
   "execution_count": 3,
   "metadata": {
    "ExecuteTime": {
     "end_time": "2019-09-04T08:33:35.319634Z",
     "start_time": "2019-09-04T08:33:34.830072Z"
    }
   },
   "outputs": [],
   "source": [
    "# Import libraries and set desired options\n",
    "import matplotlib.pyplot as plt\n",
    "import numpy as np\n",
    "import pandas as pd\n",
    "import seaborn as sns\n",
    "from IPython.display import display\n",
    "from scipy import sparse, stats\n",
    "from scipy.linalg import svd\n",
    "from sklearn import preprocessing\n",
    "from sklearn.decomposition import TruncatedSVD\n",
    "from sklearn.ensemble import RandomForestClassifier\n",
    "from sklearn.metrics import f1_score, roc_auc_score\n",
    "from sklearn.model_selection import (KFold, StratifiedKFold, cross_val_score,\n",
    "                                     cross_validate, train_test_split)\n",
    "from tqdm import tqdm\n",
    "#from xgboost import XGBClassifier"
   ]
  },
  {
   "cell_type": "code",
   "execution_count": 4,
   "metadata": {
    "ExecuteTime": {
     "end_time": "2019-09-04T08:33:35.322327Z",
     "start_time": "2019-09-04T08:33:35.320726Z"
    }
   },
   "outputs": [],
   "source": [
    "TRAIN_PATH = 'train/'"
   ]
  },
  {
   "cell_type": "markdown",
   "metadata": {},
   "source": [
    "# Read data sets"
   ]
  },
  {
   "cell_type": "code",
   "execution_count": 5,
   "metadata": {
    "ExecuteTime": {
     "end_time": "2019-09-04T08:33:36.365935Z",
     "start_time": "2019-09-04T08:33:35.903478Z"
    }
   },
   "outputs": [],
   "source": [
    "X1 = pd.read_csv(TRAIN_PATH + 'X1.csv')\n",
    "X2 = pd.read_csv(TRAIN_PATH + 'X2.csv')\n",
    "X3 = pd.read_csv(TRAIN_PATH + 'X3.csv')\n",
    "\n",
    "Y = pd.read_csv(TRAIN_PATH + 'Y.csv')"
   ]
  },
  {
   "cell_type": "code",
   "execution_count": 6,
   "metadata": {},
   "outputs": [],
   "source": [
    "TEST_PATH = 'test/'"
   ]
  },
  {
   "cell_type": "code",
   "execution_count": 12,
   "metadata": {},
   "outputs": [],
   "source": [
    "X1_test = pd.read_csv(TEST_PATH + 'X1.csv')\n",
    "X2_test = pd.read_csv(TEST_PATH + 'X2.csv')\n",
    "X3_test = pd.read_csv(TEST_PATH + 'X3.csv')"
   ]
  },
  {
   "cell_type": "code",
   "execution_count": 8,
   "metadata": {
    "ExecuteTime": {
     "end_time": "2019-09-04T08:33:37.485178Z",
     "start_time": "2019-09-04T08:33:37.478886Z"
    }
   },
   "outputs": [],
   "source": [
    "# X3.to_csv(DATA_PATH + 'X3.csv', index=None)"
   ]
  },
  {
   "cell_type": "code",
   "execution_count": 9,
   "metadata": {
    "ExecuteTime": {
     "end_time": "2019-09-04T08:33:38.150739Z",
     "start_time": "2019-09-04T08:33:38.132889Z"
    }
   },
   "outputs": [
    {
     "data": {
      "text/html": [
       "<div>\n",
       "<style scoped>\n",
       "    .dataframe tbody tr th:only-of-type {\n",
       "        vertical-align: middle;\n",
       "    }\n",
       "\n",
       "    .dataframe tbody tr th {\n",
       "        vertical-align: top;\n",
       "    }\n",
       "\n",
       "    .dataframe thead th {\n",
       "        text-align: right;\n",
       "    }\n",
       "</style>\n",
       "<table border=\"1\" class=\"dataframe\">\n",
       "  <thead>\n",
       "    <tr style=\"text-align: right;\">\n",
       "      <th></th>\n",
       "      <th>id</th>\n",
       "      <th>1</th>\n",
       "      <th>2</th>\n",
       "      <th>3</th>\n",
       "      <th>4</th>\n",
       "      <th>5</th>\n",
       "    </tr>\n",
       "  </thead>\n",
       "  <tbody>\n",
       "    <tr>\n",
       "      <th>0</th>\n",
       "      <td>3</td>\n",
       "      <td>1</td>\n",
       "      <td>1</td>\n",
       "      <td>0</td>\n",
       "      <td>0</td>\n",
       "      <td>1</td>\n",
       "    </tr>\n",
       "    <tr>\n",
       "      <th>1</th>\n",
       "      <td>5</td>\n",
       "      <td>0</td>\n",
       "      <td>1</td>\n",
       "      <td>0</td>\n",
       "      <td>0</td>\n",
       "      <td>0</td>\n",
       "    </tr>\n",
       "    <tr>\n",
       "      <th>2</th>\n",
       "      <td>6</td>\n",
       "      <td>0</td>\n",
       "      <td>1</td>\n",
       "      <td>0</td>\n",
       "      <td>0</td>\n",
       "      <td>0</td>\n",
       "    </tr>\n",
       "    <tr>\n",
       "      <th>3</th>\n",
       "      <td>8</td>\n",
       "      <td>1</td>\n",
       "      <td>0</td>\n",
       "      <td>0</td>\n",
       "      <td>0</td>\n",
       "      <td>0</td>\n",
       "    </tr>\n",
       "    <tr>\n",
       "      <th>4</th>\n",
       "      <td>10</td>\n",
       "      <td>0</td>\n",
       "      <td>0</td>\n",
       "      <td>1</td>\n",
       "      <td>1</td>\n",
       "      <td>0</td>\n",
       "    </tr>\n",
       "  </tbody>\n",
       "</table>\n",
       "</div>"
      ],
      "text/plain": [
       "   id  1  2  3  4  5\n",
       "0   3  1  1  0  0  1\n",
       "1   5  0  1  0  0  0\n",
       "2   6  0  1  0  0  0\n",
       "3   8  1  0  0  0  0\n",
       "4  10  0  0  1  1  0"
      ]
     },
     "execution_count": 9,
     "metadata": {},
     "output_type": "execute_result"
    }
   ],
   "source": [
    "Y.head()"
   ]
  },
  {
   "cell_type": "markdown",
   "metadata": {},
   "source": [
    "## Transform X2 using SVD"
   ]
  },
  {
   "cell_type": "code",
   "execution_count": 10,
   "metadata": {},
   "outputs": [],
   "source": [
    "def transform_x2(X2, svd=None):\n",
    "    rows, row_pos = np.unique(X2.iloc[:, 0], return_inverse=True)\n",
    "    cols, col_pos = np.unique(X2.iloc[:, 1], return_inverse=True)\n",
    "    sparse_matrix = np.zeros((len(rows), len(cols)))\n",
    "\n",
    "    sparse_matrix[row_pos, col_pos] = 1\n",
    "\n",
    "    cols_ = sparse_matrix.sum(axis=0)\n",
    "    rows_ = sparse_matrix.sum(axis=1)\n",
    "\n",
    "    minimum_users_per_group = 5\n",
    "    selected_cols = cols_ >= minimum_users_per_group\n",
    "    trimmed_sparse_matrix = sparse_matrix[:, selected_cols]\n",
    "\n",
    "    sns.distplot(trimmed_sparse_matrix.sum(axis=0), bins=100)\n",
    "\n",
    "    if svd is None:\n",
    "        svd = TruncatedSVD(n_components=150)\n",
    "        svd.fit(trimmed_sparse_matrix)\n",
    "\n",
    "    components = pd.DataFrame(svd.transform(trimmed_sparse_matrix))\n",
    "    components['id'] = X2.iloc[:, 0].unique()\n",
    "    X2 = components\n",
    "    return X2, svd"
   ]
  },
  {
   "cell_type": "markdown",
   "metadata": {},
   "source": [
    "## Merge all datasets into one"
   ]
  },
  {
   "cell_type": "code",
   "execution_count": 11,
   "metadata": {},
   "outputs": [
    {
     "name": "stderr",
     "output_type": "stream",
     "text": [
      "C:\\Users\\AIrat\\Anaconda3\\lib\\site-packages\\scipy\\stats\\stats.py:1713: FutureWarning: Using a non-tuple sequence for multidimensional indexing is deprecated; use `arr[tuple(seq)]` instead of `arr[seq]`. In the future this will be interpreted as an array index, `arr[np.array(seq)]`, which will result either in an error or a different result.\n",
      "  return np.add.reduce(sorted[indexer] * weights, axis=axis) / sumval\n"
     ]
    },
    {
     "data": {
      "image/png": "[encoded data removed]",
      "text/plain": [
       "<Figure size 432x288 with 1 Axes>"
      ]
     },
     "metadata": {
      "needs_background": "light"
     },
     "output_type": "display_data"
    }
   ],
   "source": [
    "X2_all = X2.append(X2_test)\n",
    "X2_all, svd = transform_x2(X2_all)"
   ]
  },
  {
   "cell_type": "code",
   "execution_count": 13,
   "metadata": {
    "ExecuteTime": {
     "end_time": "2019-09-04T08:34:05.351519Z",
     "start_time": "2019-09-04T08:34:05.246863Z"
    }
   },
   "outputs": [],
   "source": [
    "X2 = X2_all[X2_all.id.isin(X1.id)]\n",
    "df = X1.merge(X2, on='id', how='inner').merge(X3, on='id').merge(Y, on='id')\n",
    "X = df.iloc[:, :-5]\n",
    "Y_cls = df.iloc[:, -5:]"
   ]
  },
  {
   "cell_type": "code",
   "execution_count": 14,
   "metadata": {},
   "outputs": [
    {
     "data": {
      "text/plain": [
       "(4000, 633)"
      ]
     },
     "execution_count": 14,
     "metadata": {},
     "output_type": "execute_result"
    }
   ],
   "source": [
    "df.shape"
   ]
  },
  {
   "cell_type": "code",
   "execution_count": 11,
   "metadata": {
    "scrolled": true
   },
   "outputs": [],
   "source": [
    "X2_test = X2_all[X2_all.id.isin(X1_test.id)]\n",
    "df_test = X1_test.merge(X2_test, on='id', how='inner').merge(X3_test, on='id')\n",
    "X_test = df_test"
   ]
  },
  {
   "cell_type": "markdown",
   "metadata": {},
   "source": [
    "# Modeling"
   ]
  },
  {
   "cell_type": "code",
   "execution_count": 12,
   "metadata": {
    "ExecuteTime": {
     "end_time": "2019-09-04T08:34:08.393068Z",
     "start_time": "2019-09-04T08:34:08.374012Z"
    },
    "code_folding": []
   },
   "outputs": [],
   "source": [
    "def cross_validation_score_statement(estimator,\n",
    "                                     X,\n",
    "                                     y,\n",
    "                                     scoring,\n",
    "                                     n_splits=5,\n",
    "                                     statement=None,\n",
    "                                     random_state=0):\n",
    "    \"\"\"\n",
    "    Evaluate a score by cross-validation. \n",
    "    The fit method will be performed on the entire train subset at each iteration,\n",
    "    the predict method and scoring will be performed only for objects from test subset where statement is True\n",
    "    \n",
    "    Parameters\n",
    "    ----------\n",
    "    estimator : estimator object implementing 'fit' and 'predict'\n",
    "        The object to use to fit the data.\n",
    "    X : pandas.DataFrame\n",
    "        The data to fit.\n",
    "    y : pandas.Series\n",
    "        The target variable to try to predict.\n",
    "    scoring : callable \n",
    "        The scoring function of signature scoring(y_true,y_pred).\n",
    "    statement : boolean numpy.array of shape equal to y.shape\n",
    "        The mask showing the objects we want to evaluate estimator on.\n",
    "    n_splits : int\n",
    "        Number of folds for cross-validation\n",
    "    random_state : int\n",
    "        Random_state for KFold and StratifiedKFold    \n",
    "    \n",
    "    Returns\n",
    "    -----------\n",
    "    scores : array of float, shape=(n_splits,)\n",
    "    \n",
    "    \"\"\"\n",
    "    if statement is None:\n",
    "        cv = KFold(n_splits=n_splits, shuffle=False, random_state=random_state)\n",
    "        cv_iter = list(cv.split(X, y))\n",
    "    else:\n",
    "        cv = StratifiedKFold(n_splits=n_splits,\n",
    "                             shuffle=True,\n",
    "                             random_state=random_state)\n",
    "        cv_iter = list(cv.split(X, statement))\n",
    "    scores = []\n",
    "\n",
    "    for train, test in cv_iter:\n",
    "        estimator.fit(X.iloc[train, :].values, y.iloc[train].values)\n",
    "        if statement is not None:\n",
    "            y_statement = y.iloc[test].loc[statement[test]]\n",
    "            pred_statement = estimator.predict_proba(\n",
    "                X.iloc[test, :].loc[statement[test]].values)[:, 1]\n",
    "        else:\n",
    "            y_statement = y.iloc[test]\n",
    "            pred_statement = estimator.predict_proba(X.iloc[test, :].values)[:, 1]\n",
    "        scores.append(scoring(y_statement, pred_statement))\n",
    "    return np.array(scores)"
   ]
  },
  {
   "cell_type": "code",
   "execution_count": 13,
   "metadata": {
    "ExecuteTime": {
     "end_time": "2019-09-04T08:34:09.432841Z",
     "start_time": "2019-09-04T08:34:09.413959Z"
    },
    "code_folding": []
   },
   "outputs": [],
   "source": [
    "params = {'1': {'alpha': 0,\n",
    "  'colsample_bytree': 0.6,\n",
    "  'eta': 0.05,\n",
    "  'learning_rate': 0.017,\n",
    "  'max_delta_step': 5,\n",
    "  'max_depth': 2,\n",
    "  'min_child_samples': 100,\n",
    "  'min_child_weight': 5,\n",
    "  'n_estimators': 200,\n",
    "  'num_leaves': 44,\n",
    "  'scale_pos_weight': 1},\n",
    " '2': {'alpha': 1,\n",
    "  'colsample_bytree': 0.75,\n",
    "  'eta': 0.225,\n",
    "  'learning_rate': 0.033,\n",
    "  'max_delta_step': 9,\n",
    "  'max_depth': 1,\n",
    "  'min_child_samples': 100,\n",
    "  'min_child_weight': 2,\n",
    "  'n_estimators': 200,\n",
    "  'num_leaves': 19,\n",
    "  'scale_pos_weight': 0.75},\n",
    " '3': {'alpha': 0,\n",
    "  'colsample_bytree': 0.75,\n",
    "  'eta': 0.21,\n",
    "  'learning_rate': 0.019,\n",
    "  'max_delta_step': 3,\n",
    "  'max_depth': 3,\n",
    "  'min_child_samples': 150,\n",
    "  'min_child_weight': 4,\n",
    "  'n_estimators': 675,\n",
    "  'num_leaves': 10,\n",
    "  'scale_pos_weight': 0.75},\n",
    " '4': {'alpha': 1,\n",
    "  'colsample_bytree': 0.9,\n",
    "  'eta': 0.39,\n",
    "  'learning_rate': 0.021,\n",
    "  'max_delta_step': 5,\n",
    "  'max_depth': 1,\n",
    "  'min_child_samples': 150,\n",
    "  'min_child_weight': 7,\n",
    "  'n_estimators': 325,\n",
    "  'num_leaves': 20,\n",
    "  'scale_pos_weight': 0.75},\n",
    " '5': {'alpha': 1,\n",
    "  'colsample_bytree': 0.7,\n",
    "  'eta': 0.08,\n",
    "  'learning_rate': 0.03,\n",
    "  'max_delta_step': 9,\n",
    "  'max_depth': 1,\n",
    "  'min_child_samples': 50,\n",
    "  'min_child_weight': 10,\n",
    "  'n_estimators': 225,\n",
    "  'num_leaves': 20,\n",
    "  'scale_pos_weight': 0.75}}"
   ]
  },
  {
   "cell_type": "code",
   "execution_count": 15,
   "metadata": {
    "scrolled": true
   },
   "outputs": [
    {
     "name": "stderr",
     "output_type": "stream",
     "text": [
      "\n",
      "  0%|          | 0/5 [00:00<?, ?it/s]\u001b[A\n",
      " 20%|██        | 1/5 [00:16<01:06, 16.62s/it]\u001b[A\n",
      " 40%|████      | 2/5 [00:29<00:46, 15.64s/it]\u001b[A\n",
      " 60%|██████    | 3/5 [01:51<01:10, 35.33s/it]\u001b[A\n",
      " 80%|████████  | 4/5 [02:14<00:31, 31.66s/it]\u001b[A\n",
      "100%|██████████| 5/5 [02:28<00:00, 26.43s/it]\u001b[A\n",
      "\u001b[A"
     ]
    }
   ],
   "source": [
    "models = []\n",
    "probas = []\n",
    "scores = []\n",
    "for i in tqdm('12345'):\n",
    "    cls = XGBClassifier(n_jobs=8, random_state=0, **params[i])\n",
    "    cls.fit(X.values, Y_cls[i].values)\n",
    "    proba = cls.predict_proba(X_test.values)[:, 1]\n",
    "    probas += [proba]\n",
    "    models.append(cls)"
   ]
  },
  {
   "cell_type": "code",
   "execution_count": 16,
   "metadata": {},
   "outputs": [],
   "source": [
    "tmp = pd.DataFrame(probas).T\n",
    "baseline = pd.DataFrame(tmp.values, columns=['1', '2', '3', '4', '5'])\n",
    "baseline['id'] = X_test['id']\n",
    "baseline[['id', '1', '2', '3', '4', '5']].to_csv('baseline.csv', index=False)"
   ]
  },
  {
   "cell_type": "code",
   "execution_count": null,
   "metadata": {},
   "outputs": [],
   "source": []
  }
 ],
 "metadata": {
  "hide_input": false,
  "kernelspec": {
   "display_name": "Python 3",
   "language": "python",
   "name": "python3"
  },
  "language_info": {
   "codemirror_mode": {
    "name": "ipython",
    "version": 3
   },
   "file_extension": ".py",
   "mimetype": "text/x-python",
   "name": "python",
   "nbconvert_exporter": "python",
   "pygments_lexer": "ipython3",
   "version": "3.7.1"
  },
  "toc": {
   "base_numbering": 1,
   "nav_menu": {},
   "number_sections": true,
   "sideBar": true,
   "skip_h1_title": false,
   "title_cell": "Table of Contents",
   "title_sidebar": "Contents",
   "toc_cell": false,
   "toc_position": {
    "height": "calc(100% - 180px)",
    "left": "10px",
    "top": "150px",
    "width": "246.6px"
   },
   "toc_section_display": true,
   "toc_window_display": true
  }
 },
 "nbformat": 4,
 "nbformat_minor": 2
}
